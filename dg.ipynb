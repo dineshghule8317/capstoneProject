{
 "cells": [
  {
   "cell_type": "code",
   "execution_count": 2,
   "id": "7b6200ec-ea91-408a-9e21-e1a533afc787",
   "metadata": {},
   "outputs": [
    {
     "name": "stdout",
     "output_type": "stream",
     "text": [
      "start quize\n",
      "1)general knowledge\n",
      "2)math\n",
      "3)computer queston\n"
     ]
    },
    {
     "name": "stdin",
     "output_type": "stream",
     "text": [
      " 2\n"
     ]
    },
    {
     "name": "stdout",
     "output_type": "stream",
     "text": [
      "math\n",
      "math test start\n",
      "1)33+44\n",
      "a)78\n",
      "b)77\n",
      "c)87\n",
      "d)88\n"
     ]
    },
    {
     "name": "stdin",
     "output_type": "stream",
     "text": [
      " d\n"
     ]
    },
    {
     "name": "stdout",
     "output_type": "stream",
     "text": [
      "wrong\n",
      "2)95-40\n",
      "a)78\n",
      "b)57\n",
      "c)87\n",
      "d)55\n"
     ]
    },
    {
     "name": "stdin",
     "output_type": "stream",
     "text": [
      " d\n"
     ]
    },
    {
     "name": "stdout",
     "output_type": "stream",
     "text": [
      "your are right\n",
      "3)12*9\n",
      "a)98\n",
      "b)108\n",
      "c)187\n",
      "d)255\n"
     ]
    },
    {
     "name": "stdin",
     "output_type": "stream",
     "text": [
      " b\n"
     ]
    },
    {
     "name": "stdout",
     "output_type": "stream",
     "text": [
      "your are right\n",
      "right 3/ 2\n"
     ]
    }
   ],
   "source": [
    "#file\n",
    "print(\"start quize\")\n",
    "print(\"1)general knowledge\")\n",
    "print(\"2)math\")\n",
    "print(\"3)computer queston\")\n",
    "n=int(input(\"\"))\n",
    "count=0\n",
    "if n==1:\n",
    "    \n",
    "    print(\"gk test start\")\n",
    "\n",
    "    print(\"1)which is india capital\")\n",
    "    print(\"a)dilli\")\n",
    "    print(\"b)pune\")\n",
    "    print(\"c)mumbai\")\n",
    "    print(\"d)kolkata\")\n",
    "    n=input(\"\")\n",
    "    \n",
    "    if n==\"a\" or n==\"A\":\n",
    "        print(\"you are right\")\n",
    "        count=count+1\n",
    "    else:\n",
    "        print(\"wrong\")\n",
    "        \n",
    "    print(\"2)which is maharashtra capital\")\n",
    "    print(\"a)dilli\")\n",
    "    print(\"b)pune\")\n",
    "    print(\"c)mumbai\")\n",
    "    print(\"d)kolkata\")\n",
    "\n",
    "\n",
    "    n=(input(\"\"))\n",
    "\n",
    "    if n==\"c\" or n==\"C\":\n",
    "        count=count+1\n",
    "        print(\"you are right\")\n",
    "    else:\n",
    "        print(\"you are wrong\") \n",
    "    \n",
    "    print(\"india national game\")\n",
    "    print(\"a)chess\")\n",
    "    print(\"b)hockey\")\n",
    "    print(\"c)cricket\")\n",
    "    print(\"d)kabbadi\")\n",
    "\n",
    "\n",
    "    n=(input(\"\"))\n",
    "\n",
    "    if n==\"b\" or n==\"B\":\n",
    "        print(\"you are right\")\n",
    "        count=count+1\n",
    "    else:\n",
    "        print(\"you are wrong\")\n",
    "    print(\"right 3/\",count)\n",
    "    \n",
    "if n==2:\n",
    "    \n",
    "    print(\"math\")\n",
    "    print(\"math test start\")\n",
    "\n",
    "    print(\"1)33+44\")\n",
    "    print(\"a)78\")\n",
    "    print(\"b)77\")\n",
    "    print(\"c)87\")\n",
    "    print(\"d)88\")\n",
    "          \n",
    "    n=input(\"\")\n",
    "    \n",
    "    if n==\"b\" or n==\"B\":\n",
    "          count=count+1\n",
    "          print(\"your are right\")\n",
    "    else:\n",
    "          print(\"wrong\")\n",
    "          \n",
    "    print(\"2)95-40\")\n",
    "    print(\"a)78\")\n",
    "    print(\"b)57\")\n",
    "    print(\"c)87\")\n",
    "    print(\"d)55\")\n",
    "          \n",
    "    n=input(\"\")\n",
    "    \n",
    "    if n==\"d\" or n==\"D\":\n",
    "          count=count+1\n",
    "          print(\"your are right\")\n",
    "    else:\n",
    "          print(\"wrong\")\n",
    "    \n",
    "    print(\"3)12*9\")\n",
    "    print(\"a)98\")\n",
    "    print(\"b)108\")\n",
    "    print(\"c)187\")\n",
    "    print(\"d)255\")\n",
    "          \n",
    "    n=input(\"\")\n",
    "    \n",
    "    if n==\"b\" or n==\"B\":\n",
    "        count=count+1\n",
    "        print(\"your are right\")\n",
    "    else:\n",
    "          print(\"wrong\")\n",
    "    print(\"right 3/\",count)     \n",
    "\n",
    "if n==3:\n",
    "    print(\"computer queston test\")\n",
    "    \n",
    "    if n==1:\n",
    "        print(\"computer test start\")\n",
    "\n",
    "    print(\"1)who is the father of computer\")\n",
    "    print(\"a)jemes gosling\")\n",
    "    print(\"b)charles babbage\")\n",
    "    print(\"c)dennis ritchie\")\n",
    "    print(\"d)strousrup\")\n",
    "    n=input(\"\")\n",
    "    \n",
    "    if n==\"b\" or n==\"B\":\n",
    "        print(\"you are right\")\n",
    "        count=count+1\n",
    "    else:\n",
    "        print(\"wrong\")\n",
    "        \n",
    "    print(\"2)what is the full form of cpu\")\n",
    "    print(\"a)computer proccesing unit\")\n",
    "    print(\"b)computer principle unit\")\n",
    "    print(\"c)central processing unit\")\n",
    "    print(\"d)control processing unit\")\n",
    "\n",
    "\n",
    "    n=(input(\"\"))\n",
    "\n",
    "    if n==\"c\" or n==\"C\":\n",
    "        count=count+1\n",
    "        print(\"you are right\")\n",
    "    else:\n",
    "        print(\"you are wrong\") \n",
    "    \n",
    "    print(\"3)which of the following is the brain of computer\")\n",
    "    print(\"a)central processing unit\")\n",
    "    print(\"b)memory\")\n",
    "    print(\"c)arithmatic and logic unit\")\n",
    "    print(\"d)control unit\")\n",
    "\n",
    "\n",
    "    n=(input(\"\"))\n",
    "\n",
    "    if n==\"a\" or n==\"A\":\n",
    "        print(\"you are right\")\n",
    "        count=count+1\n",
    "    else:\n",
    "        print(\"you are wrong\")\n",
    "    print(\"right 3/\",count)\n",
    "    \n",
    "    "
   ]
  },
  {
   "cell_type": "code",
   "execution_count": 3,
   "id": "4ef21c6f-47a1-45b5-82f6-73937206f6c7",
   "metadata": {},
   "outputs": [
    {
     "name": "stdout",
     "output_type": "stream",
     "text": [
      "mar-2021 To mar-2022 income\n"
     ]
    },
    {
     "name": "stdin",
     "output_type": "stream",
     "text": [
      "enter your income 300000\n"
     ]
    },
    {
     "name": "stdout",
     "output_type": "stream",
     "text": [
      "you pay tax is 2500.0\n"
     ]
    }
   ],
   "source": [
    "# tax calculator\n",
    "\n",
    "print(\"mar-2021 To mar-2022 income\")\n",
    "n=int(input(\"enter your income\"))\n",
    "tax=0\n",
    "\n",
    "if n <= 250000:  #2 Lakh 50 thousand\n",
    "    tax = 0\n",
    "elif n <= 500000: #5 Lakh\n",
    "    tax = (n - 250000) * 0.05\n",
    "elif n <= 750000: #7 lakh 50 thousand\n",
    "    tax = (n - 500000) * 0.10 + 12500 \n",
    "elif n <= 1000000: #10 Lakh\n",
    "    tax = (n - 750000) * 0.15 + 37500 \n",
    "elif n <= 1250000: #12 lakh 50 thousand\n",
    "    tax = (n - 1000000) * 0.20 + 75000 \n",
    "elif n <= 1500000: #15 lakh\n",
    "    tax = (n - 1250000) * 0.25 + 125000 \n",
    "else:\n",
    "    tax = (n - 1500000) * 0.30 + 187500\n",
    "\n",
    "print(\"you pay tax is\", tax)"
   ]
  },
  {
   "cell_type": "code",
   "execution_count": null,
   "id": "2dfffa87-134d-4424-9623-952db1a6ba8f",
   "metadata": {},
   "outputs": [],
   "source": []
  },
  {
   "cell_type": "code",
   "execution_count": 4,
   "id": "d6b56ac8-c54e-47d2-8c3a-7b888d964dc5",
   "metadata": {},
   "outputs": [
    {
     "name": "stdout",
     "output_type": "stream",
     "text": [
      "Select operation.\n",
      "1.Add\n",
      "2.Subtract\n",
      "3.Multiply\n",
      "4.Divide\n"
     ]
    },
    {
     "name": "stdin",
     "output_type": "stream",
     "text": [
      "Enter choice(1/2/3/4):  2\n",
      "Enter first number:  33\n",
      "Enter second number:  4\n"
     ]
    },
    {
     "name": "stdout",
     "output_type": "stream",
     "text": [
      "33.0 - 4.0 = 29.0\n"
     ]
    },
    {
     "name": "stdin",
     "output_type": "stream",
     "text": [
      "Let's do next calculation? (yes/no):  no\n"
     ]
    }
   ],
   "source": [
    "#Numbers\n",
    "# Program make a simple calculator\n",
    "def add(x, y):\n",
    "    return x + y\n",
    "\n",
    "def subtract(x, y):\n",
    "    return x - y\n",
    "\n",
    "def multiply(x, y):\n",
    "    return x * y\n",
    "\n",
    "def divide(x, y):\n",
    "    return x / y\n",
    "\n",
    "\n",
    "print(\"Select operation.\")\n",
    "print(\"1.Add\")\n",
    "print(\"2.Subtract\")\n",
    "print(\"3.Multiply\")\n",
    "print(\"4.Divide\")\n",
    "\n",
    "while True:\n",
    "    choose= input(\"Enter choice(1/2/3/4): \")\n",
    "\n",
    "    if choose in ('1', '2', '3', '4'):\n",
    "        num1 = float(input(\"Enter first number: \"))\n",
    "        num2 = float(input(\"Enter second number: \"))\n",
    "\n",
    "        if choose == '1':\n",
    "            print(num1, \"+\", num2, \"=\", add(num1, num2))\n",
    "\n",
    "        elif choose == '2':\n",
    "            print(num1, \"-\", num2, \"=\", subtract(num1, num2))\n",
    "\n",
    "        elif choose == '3':\n",
    "            print(num1, \"*\", num2, \"=\", multiply(num1, num2))\n",
    "\n",
    "        elif choose == '4':\n",
    "            print(num1, \"/\", num2, \"=\", divide(num1, num2))\n",
    "        \n",
    "        next_calculation = input(\"Let's do next calculation? (yes/no): \")\n",
    "        if next_calculation == \"no\" or \"No\":\n",
    "          break\n",
    "    \n",
    "    else:\n",
    "        print(\"Invalid Input\")"
   ]
  },
  {
   "cell_type": "code",
   "execution_count": 28,
   "id": "08f030d1-0a29-4a51-979b-0003704bec5a",
   "metadata": {},
   "outputs": [
    {
     "name": "stdin",
     "output_type": "stream",
     "text": [
      "enter name 232\n"
     ]
    },
    {
     "name": "stdout",
     "output_type": "stream",
     "text": [
      "Yes\n"
     ]
    }
   ],
   "source": [
    "#Text\n",
    "# palindrom string.\n",
    "def isPalindrome(s):\n",
    "    return s == s[::-1]\n",
    " \n",
    " \n",
    "# Driver code\n",
    "s =input(\"enter name\")\n",
    "ans = isPalindrome(s)\n",
    " \n",
    "if ans:\n",
    "    print(\"Yes\")\n",
    "else:\n",
    "    print(\"No\")\n"
   ]
  },
  {
   "cell_type": "code",
   "execution_count": 1,
   "id": "874cf36e-e6db-4c24-91c4-2a07ec647665",
   "metadata": {},
   "outputs": [
    {
     "name": "stdout",
     "output_type": "stream",
     "text": [
      "TEAMSMWLTN/RPTNRRFORAGAINST\n",
      "1Delhi Capitals1410400200.4812180/267.02136/278.0\n",
      "2Chennai Super Kings149500180.4552368/272.02218/268.5\n",
      "3Royal Challengers Bangalore14950018-0.1402165/273.42159/268.1\n",
      "4Kolkata Knight Riders147700140.5872119/259.52080/274.5\n",
      "5Mumbai Indians147700140.1162117/265.52128/271.1\n",
      "6Punjab Kings14680012-0.0012150/270.12117/266.0\n",
      "7Rajasthan Royals14590010-0.9932196/276.02318/259.0\n",
      "8Sunrisers Hyderabad14311006-0.5452077/277.12216/275.4\n"
     ]
    }
   ],
   "source": [
    "import requests\n",
    "import bs4\n",
    "\n",
    "req=requests.get('http://www.espncricinfo.com/series/ipl-2021-1249214/points-table-standings')\n",
    "\n",
    "soup=bs4.BeautifulSoup(req.text,'lxml')\n",
    "table=soup.select('tr')\n",
    "\n",
    "for item in table:\n",
    "    print(item.text)"
   ]
  },
  {
   "cell_type": "code",
   "execution_count": null,
   "id": "2912e232-5f1f-4b0d-88a7-a1b574c711a9",
   "metadata": {},
   "outputs": [],
   "source": [
    "# Classic Algorithms\n",
    "def Collatz(n): \n",
    "    while n!= 1: \n",
    "        print(n, end = ', ') \n",
    "\n",
    "        if n & 1: \n",
    "            n = 3 * n + 1\n",
    "\n",
    "        else:\n",
    "            n = n // 2\n",
    "        print(n) \n",
    "a=int(input(\"enter your no.\"))\n",
    "Collatz(a) "
   ]
  }
 ],
 "metadata": {
  "kernelspec": {
   "display_name": "Python 3 (ipykernel)",
   "language": "python",
   "name": "python3"
  },
  "language_info": {
   "codemirror_mode": {
    "name": "ipython",
    "version": 3
   },
   "file_extension": ".py",
   "mimetype": "text/x-python",
   "name": "python",
   "nbconvert_exporter": "python",
   "pygments_lexer": "ipython3",
   "version": "3.9.7"
  }
 },
 "nbformat": 4,
 "nbformat_minor": 5
}
